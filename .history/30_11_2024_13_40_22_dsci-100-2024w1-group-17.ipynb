{
 "cells": [
  {
   "cell_type": "markdown",
   "id": "a2e7e097-80ed-4793-bcc1-e607f8dcedbf",
   "metadata": {},
   "source": [
    "# Predicting Hours Played by MineCraft Users Based on Age and Experience Level\n"
   ]
  },
  {
   "cell_type": "code",
   "execution_count": null,
   "id": "02fc923f-1be0-4ba5-acea-67794deb18b2",
   "metadata": {},
   "outputs": [],
   "source": []
  },
  {
   "cell_type": "code",
   "execution_count": null,
   "id": "47d62b76-4dde-461a-8f1d-52359bde533d",
   "metadata": {},
   "outputs": [],
   "source": []
  }
 ],
 "metadata": {
  "kernelspec": {
   "display_name": "Python 3 (ipykernel)",
   "language": "python",
   "name": "python3"
  },
  "language_info": {
   "codemirror_mode": {
    "name": "ipython",
    "version": 3
   },
   "file_extension": ".py",
   "mimetype": "text/x-python",
   "name": "python",
   "nbconvert_exporter": "python",
   "pygments_lexer": "ipython3",
   "version": "3.11.9"
  }
 },
 "nbformat": 4,
 "nbformat_minor": 5
}
