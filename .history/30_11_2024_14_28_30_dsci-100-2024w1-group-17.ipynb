{
 "cells": [
  {
   "cell_type": "markdown",
   "id": "a2e7e097-80ed-4793-bcc1-e607f8dcedbf",
   "metadata": {},
   "source": [
    "# Predicting Hours Played by MineCraft Users Based on Age and Experience Level\n"
   ]
  },
  {
   "cell_type": "markdown",
   "id": "206f90b9-8e33-489b-9459-c5bfd9a2c618",
   "metadata": {},
   "source": [
    "### Introduction "
   ]
  },
  {
   "cell_type": "markdown",
   "id": "1e529007-0fe1-4a4f-b115-10f6275494b0",
   "metadata": {},
   "source": [
    "Researchers in the Computer Science department at UBC are collecting data on how people play video games to answer a few questions. One of the questions the researchers are asking is “Which ‘kinds’ of players are most likely to contribute a large amount of data so that we can target those players in our recruiting efforts?” \n",
    "\n",
    "The researchers have set up a MineCraft server to record players' actions as they navigate through the server’s world. The project they are running is a lot more complicated than it seems. They need to ensure there are enough resources (server hardware, software licences, etc.) in order to accommodate the number of players they attract to contribute to the study."
   ]
  },
  {
   "cell_type": "markdown",
   "id": "13587809-d3fa-4ad6-9924-8ca9ed94b2c1",
   "metadata": {},
   "source": [
    "To understand the demographics of the players and session activity, the individuals contributing to the study must answer questions that have been formulated by the research group before playing such as what is their age, gender, and experience level. They can then join the server to play, and their session activity is monitored and recorded, allowing for the tracking of both demographic information and gameplay duration."
   ]
  },
  {
   "cell_type": "markdown",
   "id": "6ee9cc1d-ab27-4686-9042-cf19401b9b2d",
   "metadata": {},
   "source": [
    "### Our Question"
   ]
  },
  {
   "cell_type": "markdown",
   "id": "426cee19-f69a-4858-bdae-938cbe32d13c",
   "metadata": {},
   "source": [
    "We will be trying to answer the researchers' question on “Which \"kinds\" of players are most likely to contribute a large amount of data so that we can target those players in our recruiting efforts?.” And further we explore whether we can predict the number of hours played based on the players age and experience. "
   ]
  },
  {
   "cell_type": "markdown",
   "id": "6a50fd48-5a34-4972-abc3-8be8720b6413",
   "metadata": {},
   "source": [
    "### The Data Set "
   ]
  },
  {
   "cell_type": "markdown",
   "id": "5ecd2829-8001-434c-9642-d51b93c9b780",
   "metadata": {},
   "source": [
    "We will be focusing on the `players.csv` dataset containing demographic and experience level information for each participant, which will allow us to examine the relationship between the number of hours played and the characteristics of the participants. \n",
    "\n",
    "The `sessions.csv` data set will not be used in this analysis as it does not contain demographic information about the players. We chose to exclude the sessions csv file from our analysis as we believed it did not provide any meaningful infromation to our study that was not already given through the `players.csv` file.\n",
    "\n",
    "Further analysis will allow us to observe which types of players are likely to contribute more hours when playing the game."
   ]
  },
  {
   "cell_type": "markdown",
   "id": "27a9fbf0-ca69-4964-a0cd-2c43b960bbe0",
   "metadata": {},
   "source": [
    "`players.csv` dataset:\n",
    "\n",
    "The number of observations: 196 (for each player in the study)\n",
    "The number of variables: 9\n",
    "\n",
    "Variables:\n",
    "- `experience` (string): player's experience level\n",
    "- `subscribe` (boolean): subscription to study's mailing list.\n",
    "- `hashedEmail` (string): encrypted version of the player's email address.\n",
    "- `played_hours` (float): number of hours the player has spent on the server.\n",
    "- `name` (string): player's name.\n",
    "- `gender` (string): player's gender.\n",
    "- `age` (integer): age of the player in years.\n",
    "- `individualId` (NoneType): Doesn't contain data or represent a value. It could be for an alternative ID for the player.\n",
    "- `organizationName`\n",
    "(NoneType): Doesn't contain data or represent a value.\n"
   ]
  },
  {
   "cell_type": "markdown",
   "id": "1540d626-964e-4d1a-b4d5-5b6fb8abaee7",
   "metadata": {},
   "source": [
    "### Methods and Results"
   ]
  },
  {
   "cell_type": "markdown",
   "id": "c6ad7e09-1479-4aed-8244-9ec2c78512d2",
   "metadata": {},
   "source": [
    "We started by importing the required libraries and functions into Jupyter."
   ]
  },
  {
   "cell_type": "code",
   "execution_count": 1,
   "id": "34163cd3-f49f-48fc-9fdf-306e1d6ef36f",
   "metadata": {},
   "outputs": [],
   "source": [
    "import pandas as pd\n",
    "import altair as alt\n",
    "from sklearn.preprocessing import OneHotEncoder\n",
    "from sklearn.model_selection import GridSearchCV, train_test_split, cross_validate\n",
    "from sklearn.compose import make_column_transformer\n",
    "from sklearn.pipeline import make_pipeline\n",
    "from sklearn.preprocessing import StandardScaler\n",
    "from sklearn import set_config\n",
    "from sklearn.neighbors import KNeighborsRegressor\n",
    "from sklearn.metrics import mean_squared_error"
   ]
  },
  {
   "cell_type": "markdown",
   "id": "e6566db0-ac87-4218-ab29-773bb1323660",
   "metadata": {},
   "source": [
    "Then, we loaded the players csv file into Jupyter."
   ]
  },
  {
   "cell_type": "code",
   "execution_count": 3,
   "id": "3ccd8e9d-ea65-4b0d-9892-279f51d3899a",
   "metadata": {},
   "outputs": [
    {
     "data": {
      "text/html": [
       "<div>\n",
       "<style scoped>\n",
       "    .dataframe tbody tr th:only-of-type {\n",
       "        vertical-align: middle;\n",
       "    }\n",
       "\n",
       "    .dataframe tbody tr th {\n",
       "        vertical-align: top;\n",
       "    }\n",
       "\n",
       "    .dataframe thead th {\n",
       "        text-align: right;\n",
       "    }\n",
       "</style>\n",
       "<table border=\"1\" class=\"dataframe\">\n",
       "  <thead>\n",
       "    <tr style=\"text-align: right;\">\n",
       "      <th></th>\n",
       "      <th>experience</th>\n",
       "      <th>subscribe</th>\n",
       "      <th>hashedEmail</th>\n",
       "      <th>played_hours</th>\n",
       "      <th>name</th>\n",
       "      <th>gender</th>\n",
       "      <th>age</th>\n",
       "      <th>individualId</th>\n",
       "      <th>organizationName</th>\n",
       "    </tr>\n",
       "  </thead>\n",
       "  <tbody>\n",
       "    <tr>\n",
       "      <th>0</th>\n",
       "      <td>Pro</td>\n",
       "      <td>True</td>\n",
       "      <td>f6daba428a5e19a3d47574858c13550499be23603422e6...</td>\n",
       "      <td>30.3</td>\n",
       "      <td>Morgan</td>\n",
       "      <td>Male</td>\n",
       "      <td>9</td>\n",
       "      <td>NaN</td>\n",
       "      <td>NaN</td>\n",
       "    </tr>\n",
       "    <tr>\n",
       "      <th>1</th>\n",
       "      <td>Veteran</td>\n",
       "      <td>True</td>\n",
       "      <td>f3c813577c458ba0dfef80996f8f32c93b6e8af1fa9397...</td>\n",
       "      <td>3.8</td>\n",
       "      <td>Christian</td>\n",
       "      <td>Male</td>\n",
       "      <td>17</td>\n",
       "      <td>NaN</td>\n",
       "      <td>NaN</td>\n",
       "    </tr>\n",
       "    <tr>\n",
       "      <th>2</th>\n",
       "      <td>Veteran</td>\n",
       "      <td>False</td>\n",
       "      <td>b674dd7ee0d24096d1c019615ce4d12b20fcbff12d79d3...</td>\n",
       "      <td>0.0</td>\n",
       "      <td>Blake</td>\n",
       "      <td>Male</td>\n",
       "      <td>17</td>\n",
       "      <td>NaN</td>\n",
       "      <td>NaN</td>\n",
       "    </tr>\n",
       "    <tr>\n",
       "      <th>3</th>\n",
       "      <td>Amateur</td>\n",
       "      <td>True</td>\n",
       "      <td>23fe711e0e3b77f1da7aa221ab1192afe21648d47d2b4f...</td>\n",
       "      <td>0.7</td>\n",
       "      <td>Flora</td>\n",
       "      <td>Female</td>\n",
       "      <td>21</td>\n",
       "      <td>NaN</td>\n",
       "      <td>NaN</td>\n",
       "    </tr>\n",
       "    <tr>\n",
       "      <th>4</th>\n",
       "      <td>Regular</td>\n",
       "      <td>True</td>\n",
       "      <td>7dc01f10bf20671ecfccdac23812b1b415acd42c2147cb...</td>\n",
       "      <td>0.1</td>\n",
       "      <td>Kylie</td>\n",
       "      <td>Male</td>\n",
       "      <td>21</td>\n",
       "      <td>NaN</td>\n",
       "      <td>NaN</td>\n",
       "    </tr>\n",
       "    <tr>\n",
       "      <th>...</th>\n",
       "      <td>...</td>\n",
       "      <td>...</td>\n",
       "      <td>...</td>\n",
       "      <td>...</td>\n",
       "      <td>...</td>\n",
       "      <td>...</td>\n",
       "      <td>...</td>\n",
       "      <td>...</td>\n",
       "      <td>...</td>\n",
       "    </tr>\n",
       "    <tr>\n",
       "      <th>191</th>\n",
       "      <td>Amateur</td>\n",
       "      <td>True</td>\n",
       "      <td>b6e9e593b9ec51c5e335457341c324c34a2239531e1890...</td>\n",
       "      <td>0.0</td>\n",
       "      <td>Bailey</td>\n",
       "      <td>Female</td>\n",
       "      <td>17</td>\n",
       "      <td>NaN</td>\n",
       "      <td>NaN</td>\n",
       "    </tr>\n",
       "    <tr>\n",
       "      <th>192</th>\n",
       "      <td>Veteran</td>\n",
       "      <td>False</td>\n",
       "      <td>71453e425f07d10da4fa2b349c83e73ccdf0fb3312f778...</td>\n",
       "      <td>0.3</td>\n",
       "      <td>Pascal</td>\n",
       "      <td>Male</td>\n",
       "      <td>22</td>\n",
       "      <td>NaN</td>\n",
       "      <td>NaN</td>\n",
       "    </tr>\n",
       "    <tr>\n",
       "      <th>193</th>\n",
       "      <td>Amateur</td>\n",
       "      <td>False</td>\n",
       "      <td>d572f391d452b76ea2d7e5e53a3d38bfd7499c7399db29...</td>\n",
       "      <td>0.0</td>\n",
       "      <td>Dylan</td>\n",
       "      <td>Prefer not to say</td>\n",
       "      <td>17</td>\n",
       "      <td>NaN</td>\n",
       "      <td>NaN</td>\n",
       "    </tr>\n",
       "    <tr>\n",
       "      <th>194</th>\n",
       "      <td>Amateur</td>\n",
       "      <td>False</td>\n",
       "      <td>f19e136ddde68f365afc860c725ccff54307dedd13968e...</td>\n",
       "      <td>2.3</td>\n",
       "      <td>Harlow</td>\n",
       "      <td>Male</td>\n",
       "      <td>17</td>\n",
       "      <td>NaN</td>\n",
       "      <td>NaN</td>\n",
       "    </tr>\n",
       "    <tr>\n",
       "      <th>195</th>\n",
       "      <td>Pro</td>\n",
       "      <td>True</td>\n",
       "      <td>d9473710057f7d42f36570f0be83817a4eea614029ff90...</td>\n",
       "      <td>0.2</td>\n",
       "      <td>Ahmed</td>\n",
       "      <td>Other</td>\n",
       "      <td>91</td>\n",
       "      <td>NaN</td>\n",
       "      <td>NaN</td>\n",
       "    </tr>\n",
       "  </tbody>\n",
       "</table>\n",
       "<p>196 rows × 9 columns</p>\n",
       "</div>"
      ],
      "text/plain": [
       "    experience  subscribe                                        hashedEmail  \\\n",
       "0          Pro       True  f6daba428a5e19a3d47574858c13550499be23603422e6...   \n",
       "1      Veteran       True  f3c813577c458ba0dfef80996f8f32c93b6e8af1fa9397...   \n",
       "2      Veteran      False  b674dd7ee0d24096d1c019615ce4d12b20fcbff12d79d3...   \n",
       "3      Amateur       True  23fe711e0e3b77f1da7aa221ab1192afe21648d47d2b4f...   \n",
       "4      Regular       True  7dc01f10bf20671ecfccdac23812b1b415acd42c2147cb...   \n",
       "..         ...        ...                                                ...   \n",
       "191    Amateur       True  b6e9e593b9ec51c5e335457341c324c34a2239531e1890...   \n",
       "192    Veteran      False  71453e425f07d10da4fa2b349c83e73ccdf0fb3312f778...   \n",
       "193    Amateur      False  d572f391d452b76ea2d7e5e53a3d38bfd7499c7399db29...   \n",
       "194    Amateur      False  f19e136ddde68f365afc860c725ccff54307dedd13968e...   \n",
       "195        Pro       True  d9473710057f7d42f36570f0be83817a4eea614029ff90...   \n",
       "\n",
       "     played_hours       name             gender  age  individualId  \\\n",
       "0            30.3     Morgan               Male    9           NaN   \n",
       "1             3.8  Christian               Male   17           NaN   \n",
       "2             0.0      Blake               Male   17           NaN   \n",
       "3             0.7      Flora             Female   21           NaN   \n",
       "4             0.1      Kylie               Male   21           NaN   \n",
       "..            ...        ...                ...  ...           ...   \n",
       "191           0.0     Bailey             Female   17           NaN   \n",
       "192           0.3     Pascal               Male   22           NaN   \n",
       "193           0.0      Dylan  Prefer not to say   17           NaN   \n",
       "194           2.3     Harlow               Male   17           NaN   \n",
       "195           0.2      Ahmed              Other   91           NaN   \n",
       "\n",
       "     organizationName  \n",
       "0                 NaN  \n",
       "1                 NaN  \n",
       "2                 NaN  \n",
       "3                 NaN  \n",
       "4                 NaN  \n",
       "..                ...  \n",
       "191               NaN  \n",
       "192               NaN  \n",
       "193               NaN  \n",
       "194               NaN  \n",
       "195               NaN  \n",
       "\n",
       "[196 rows x 9 columns]"
      ]
     },
     "execution_count": 3,
     "metadata": {},
     "output_type": "execute_result"
    }
   ],
   "source": [
    "players_data = pd.read_csv(\"data/players.csv\")\n",
    "players_data"
   ]
  },
  {
   "cell_type": "markdown",
   "id": "4499b8c2-32ed-47ed-ad3f-15c0d93c594a",
   "metadata": {},
   "source": [
    "### Exploratory Data Analysis and Visualization"
   ]
  },
  {
   "cell_type": "markdown",
   "id": "5ad0fb2e-65ca-49d3-853a-f924b0982df9",
   "metadata": {},
   "source": [
    "To answer the researchers question for \"Which \"kinds\" of players are most likely to contribute a large amount of data so that we can target those players in our recruiting efforts?\" We will create 2 scatter plots to see if there is any patterns in the data between `played_hours`and `age` for both `gender` and `experience` categories. \n",
    "\n",
    "We will do this by selcecting the `experience`,`played_hours`, `gender`, `age` columns by using the `[]` function. So we are dropping the columns that are not needed as they do not provide information on the players demographics"
   ]
  },
  {
   "cell_type": "markdown",
   "id": "9fea8e07-7dd7-4011-9c29-c3fd33e521ec",
   "metadata": {},
   "source": [
    "Our next step was to wrangle the data. The first step for this was to drop the columns we didn't need for our analysis. We did so by keeping only the `played_hours`, `experience` and `age` columns by using `[]`. Next, we used one hot encoding to turn the experience columns into numerical variables in order to be able to use them for regression. Lastly, we combined the original dataframe with the new one hot encoding data frame to get our final data frame using the concat function."
   ]
  },
  {
   "cell_type": "code",
   "execution_count": null,
   "id": "8c5112fb-96e8-4465-90d6-c1f3abaee980",
   "metadata": {},
   "outputs": [],
   "source": []
  }
 ],
 "metadata": {
  "kernelspec": {
   "display_name": "Python 3 (ipykernel)",
   "language": "python",
   "name": "python3"
  },
  "language_info": {
   "codemirror_mode": {
    "name": "ipython",
    "version": 3
   },
   "file_extension": ".py",
   "mimetype": "text/x-python",
   "name": "python",
   "nbconvert_exporter": "python",
   "pygments_lexer": "ipython3",
   "version": "3.11.9"
  }
 },
 "nbformat": 4,
 "nbformat_minor": 5
}
