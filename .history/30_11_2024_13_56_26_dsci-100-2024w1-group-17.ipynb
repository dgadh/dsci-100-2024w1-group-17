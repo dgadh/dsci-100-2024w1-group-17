{
 "cells": [
  {
   "cell_type": "markdown",
   "id": "a2e7e097-80ed-4793-bcc1-e607f8dcedbf",
   "metadata": {},
   "source": [
    "# Predicting Hours Played by MineCraft Users Based on Age and Experience Level\n"
   ]
  },
  {
   "cell_type": "markdown",
   "id": "206f90b9-8e33-489b-9459-c5bfd9a2c618",
   "metadata": {},
   "source": [
    "### Introduction "
   ]
  },
  {
   "cell_type": "markdown",
   "id": "1e529007-0fe1-4a4f-b115-10f6275494b0",
   "metadata": {},
   "source": [
    "Researchers in the Computer Science department at UBC are collecting data on how people play video games to answer a few questions. One of the questions the researchers are asking is “Which ‘kinds’ of players are most likely to contribute a large amount of data so that we can target those players in our recruiting efforts?” \n",
    "\n",
    "The researchers have set up a MineCraft server to record players' actions as they navigate through the server’s world. The project they are running is a lot more complicated than it seems. They need to ensure there are enough resources (server hardware, software licences, etc.) in order to accommodate the number of players they attract to contribute to the study."
   ]
  },
  {
   "cell_type": "markdown",
   "id": "13587809-d3fa-4ad6-9924-8ca9ed94b2c1",
   "metadata": {},
   "source": [
    "To understand the demographics of the players and session activity, the individuals contributing to the study must answer questions that have been formulated by the research group before playing such as what is their age, gender, and experience level. They can then join the server to play, and their session activity is monitored and recorded, allowing for the tracking of both demographic information and gameplay duration."
   ]
  },
  {
   "cell_type": "markdown",
   "id": "6ee9cc1d-ab27-4686-9042-cf19401b9b2d",
   "metadata": {},
   "source": [
    "### Our Question"
   ]
  },
  {
   "cell_type": "markdown",
   "id": "426cee19-f69a-4858-bdae-938cbe32d13c",
   "metadata": {},
   "source": [
    "We will be trying to answer the researchers' question on “Which \"kinds\" of players are most likely to contribute a large amount of data so that we can target those players in our recruiting efforts?.” And further we explore whether we can predict the number of hours played based on the players age and experience. "
   ]
  },
  {
   "cell_type": "markdown",
   "id": "6a50fd48-5a34-4972-abc3-8be8720b6413",
   "metadata": {},
   "source": [
    "### The Data Set "
   ]
  },
  {
   "cell_type": "markdown",
   "id": "5ecd2829-8001-434c-9642-d51b93c9b780",
   "metadata": {},
   "source": [
    "We will be focusing on the `players.csv` dataset containing demographic and experience level information for each participant, which will allow us to examine the relationship between the number of hours played and the characteristics of the participants. \n",
    "\n",
    "The `sessions.csv` data set will not be used in this analysis as it does not contain demographic information about the players. Further analysis will allow us to observe which types of players are likely to contribute more hours when playing the game."
   ]
  },
  {
   "cell_type": "code",
   "execution_count": null,
   "id": "96c9bb7d-bd0d-4181-ab8e-28cc8d889289",
   "metadata": {},
   "outputs": [],
   "source": []
  },
  {
   "cell_type": "code",
   "execution_count": null,
   "id": "01e30ac0-5a32-4ebf-a997-f0c50f2d5304",
   "metadata": {},
   "outputs": [],
   "source": []
  }
 ],
 "metadata": {
  "kernelspec": {
   "display_name": "Python 3 (ipykernel)",
   "language": "python",
   "name": "python3"
  },
  "language_info": {
   "codemirror_mode": {
    "name": "ipython",
    "version": 3
   },
   "file_extension": ".py",
   "mimetype": "text/x-python",
   "name": "python",
   "nbconvert_exporter": "python",
   "pygments_lexer": "ipython3",
   "version": "3.11.9"
  }
 },
 "nbformat": 4,
 "nbformat_minor": 5
}
